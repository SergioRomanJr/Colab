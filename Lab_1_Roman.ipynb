{
  "nbformat": 4,
  "nbformat_minor": 0,
  "metadata": {
    "colab": {
      "provenance": [],
      "collapsed_sections": [
        "0_CxoBBhydJo",
        "sq3mQOChyWtk"
      ],
      "authorship_tag": "ABX9TyPi4j1FB49CITQB6wvR9liY",
      "include_colab_link": true
    },
    "kernelspec": {
      "name": "python3",
      "display_name": "Python 3"
    },
    "language_info": {
      "name": "python"
    }
  },
  "cells": [
    {
      "cell_type": "markdown",
      "metadata": {
        "id": "view-in-github",
        "colab_type": "text"
      },
      "source": [
        "<a href=\"https://colab.research.google.com/github/SergioRomanJr/Data_Science/blob/main/Lab_1_Roman.ipynb\" target=\"_parent\"><img src=\"https://colab.research.google.com/assets/colab-badge.svg\" alt=\"Open In Colab\"/></a>"
      ]
    },
    {
      "cell_type": "markdown",
      "source": [
        "Lab #1 Notebook"
      ],
      "metadata": {
        "id": "t-wC2v2aw9JP"
      }
    },
    {
      "cell_type": "markdown",
      "source": [
        "# Shift enter to run functions"
      ],
      "metadata": {
        "id": "0_CxoBBhydJo"
      }
    },
    {
      "cell_type": "code",
      "source": [
        "# ctrl c to copy ctrl v to paste"
      ],
      "metadata": {
        "id": "tw7RjEUz6zNc"
      },
      "execution_count": null,
      "outputs": []
    },
    {
      "cell_type": "code",
      "source": [
        "2**5"
      ],
      "metadata": {
        "colab": {
          "base_uri": "https://localhost:8080/"
        },
        "id": "TW-RzoMexRyw",
        "outputId": "f9c0b6f2-c1f2-4350-9634-336e16bb2d81"
      },
      "execution_count": null,
      "outputs": [
        {
          "output_type": "execute_result",
          "data": {
            "text/plain": [
              "32"
            ]
          },
          "metadata": {},
          "execution_count": 8
        }
      ]
    },
    {
      "cell_type": "code",
      "source": [
        "128/2"
      ],
      "metadata": {
        "colab": {
          "base_uri": "https://localhost:8080/"
        },
        "id": "W4gNzG2gxgm3",
        "outputId": "b938097e-4924-48b4-a83e-a04693481f42"
      },
      "execution_count": null,
      "outputs": [
        {
          "output_type": "execute_result",
          "data": {
            "text/plain": [
              "64.0"
            ]
          },
          "metadata": {},
          "execution_count": 9
        }
      ]
    },
    {
      "cell_type": "code",
      "source": [
        "2+2"
      ],
      "metadata": {
        "colab": {
          "base_uri": "https://localhost:8080/"
        },
        "id": "U16KjJhD4cGx",
        "outputId": "cde88cb7-7abb-4ea7-9af3-0fadb2126dde"
      },
      "execution_count": null,
      "outputs": [
        {
          "output_type": "execute_result",
          "data": {
            "text/plain": [
              "4"
            ]
          },
          "metadata": {},
          "execution_count": 75
        }
      ]
    },
    {
      "cell_type": "markdown",
      "source": [
        "# Variables"
      ],
      "metadata": {
        "id": "sq3mQOChyWtk"
      }
    },
    {
      "cell_type": "code",
      "source": [
        "apples = 5"
      ],
      "metadata": {
        "id": "PNn0hptNybig"
      },
      "execution_count": null,
      "outputs": []
    },
    {
      "cell_type": "code",
      "source": [
        "apples"
      ],
      "metadata": {
        "colab": {
          "base_uri": "https://localhost:8080/"
        },
        "id": "ehJ6qQIYy7wP",
        "outputId": "03720010-e4dc-47f0-def9-3a0a5d2c5dd3"
      },
      "execution_count": null,
      "outputs": [
        {
          "output_type": "execute_result",
          "data": {
            "text/plain": [
              "5"
            ]
          },
          "metadata": {},
          "execution_count": 21
        }
      ]
    },
    {
      "cell_type": "code",
      "source": [
        "oranges = 8"
      ],
      "metadata": {
        "id": "eqO7WRzJy86P"
      },
      "execution_count": null,
      "outputs": []
    },
    {
      "cell_type": "code",
      "source": [
        "apples + oranges\n"
      ],
      "metadata": {
        "colab": {
          "base_uri": "https://localhost:8080/"
        },
        "id": "ry6tQF5dzGFI",
        "outputId": "0b369142-f447-4b44-979a-43f2395d0f23"
      },
      "execution_count": null,
      "outputs": [
        {
          "output_type": "execute_result",
          "data": {
            "text/plain": [
              "13"
            ]
          },
          "metadata": {},
          "execution_count": 23
        }
      ]
    },
    {
      "cell_type": "code",
      "source": [
        "total = apples + oranges"
      ],
      "metadata": {
        "id": "WzOOPjPEzQC6"
      },
      "execution_count": null,
      "outputs": []
    },
    {
      "cell_type": "code",
      "source": [
        "total"
      ],
      "metadata": {
        "colab": {
          "base_uri": "https://localhost:8080/"
        },
        "id": "YW1tlQ2Tznho",
        "outputId": "4d9cd2ea-6679-485c-c404-eaa4b4792faa"
      },
      "execution_count": null,
      "outputs": [
        {
          "output_type": "execute_result",
          "data": {
            "text/plain": [
              "13"
            ]
          },
          "metadata": {},
          "execution_count": 25
        }
      ]
    },
    {
      "cell_type": "code",
      "source": [
        "apples**2"
      ],
      "metadata": {
        "colab": {
          "base_uri": "https://localhost:8080/"
        },
        "id": "6Oji95K1zo-H",
        "outputId": "24fe4b2d-9e21-4c4d-e560-6f602f34c1f7"
      },
      "execution_count": null,
      "outputs": [
        {
          "output_type": "execute_result",
          "data": {
            "text/plain": [
              "25"
            ]
          },
          "metadata": {},
          "execution_count": 32
        }
      ]
    },
    {
      "cell_type": "code",
      "source": [
        "cost_per_apple = 0.25"
      ],
      "metadata": {
        "id": "T54zOi3Uzxpp"
      },
      "execution_count": null,
      "outputs": []
    },
    {
      "cell_type": "code",
      "source": [
        "apple=7"
      ],
      "metadata": {
        "id": "ia-Abl9d0kdw"
      },
      "execution_count": null,
      "outputs": []
    },
    {
      "cell_type": "code",
      "source": [
        "total_apple_cost = apple * cost_per_apple"
      ],
      "metadata": {
        "id": "HMbT3jjGz4Kn"
      },
      "execution_count": null,
      "outputs": []
    },
    {
      "cell_type": "code",
      "source": [
        "total_apple_cost"
      ],
      "metadata": {
        "colab": {
          "base_uri": "https://localhost:8080/"
        },
        "id": "EiwcOnUk0UJg",
        "outputId": "a55c088b-ba02-45e0-bf2f-d7fff4b060ef"
      },
      "execution_count": null,
      "outputs": [
        {
          "output_type": "execute_result",
          "data": {
            "text/plain": [
              "1.75"
            ]
          },
          "metadata": {},
          "execution_count": 42
        }
      ]
    },
    {
      "cell_type": "code",
      "source": [
        "shirt_cost = 25"
      ],
      "metadata": {
        "id": "6swENTzh0xnv"
      },
      "execution_count": null,
      "outputs": []
    },
    {
      "cell_type": "code",
      "source": [
        "pants_cost = 45"
      ],
      "metadata": {
        "id": "gdMgmbrO0Fg4"
      },
      "execution_count": null,
      "outputs": []
    },
    {
      "cell_type": "code",
      "source": [
        "shoes_cost = 90"
      ],
      "metadata": {
        "id": "aNSgP5KC03Xo"
      },
      "execution_count": null,
      "outputs": []
    },
    {
      "cell_type": "code",
      "source": [
        "shirts_sold = 12"
      ],
      "metadata": {
        "id": "9Hbu4nyT0_6h"
      },
      "execution_count": null,
      "outputs": []
    },
    {
      "cell_type": "code",
      "source": [
        "pants_sold = 15"
      ],
      "metadata": {
        "id": "O-Igxhwk1DdI"
      },
      "execution_count": null,
      "outputs": []
    },
    {
      "cell_type": "code",
      "source": [
        "shoes_sold = 7"
      ],
      "metadata": {
        "id": "2LfzMYyq1H0R"
      },
      "execution_count": null,
      "outputs": []
    },
    {
      "cell_type": "code",
      "source": [
        "total_sales = (shirt_cost * shirts_sold) + (pants_cost * pants_sold) + (shoes_cost * shoes_sold)"
      ],
      "metadata": {
        "id": "Be5RBvZd1LHo"
      },
      "execution_count": null,
      "outputs": []
    },
    {
      "cell_type": "code",
      "source": [
        "total_sales #note this is in dollars"
      ],
      "metadata": {
        "colab": {
          "base_uri": "https://localhost:8080/"
        },
        "id": "Oyn0Kwos1o7J",
        "outputId": "a2c912f8-52a7-4663-9777-91b249c57367"
      },
      "execution_count": null,
      "outputs": [
        {
          "output_type": "execute_result",
          "data": {
            "text/plain": [
              "1605"
            ]
          },
          "metadata": {},
          "execution_count": 64
        }
      ]
    },
    {
      "cell_type": "code",
      "source": [
        "total_shirt_sales = shirt_cost * shirts_sold"
      ],
      "metadata": {
        "id": "l3ehpVbe1zP5"
      },
      "execution_count": null,
      "outputs": []
    },
    {
      "cell_type": "code",
      "source": [
        "total_shirt_sales"
      ],
      "metadata": {
        "colab": {
          "base_uri": "https://localhost:8080/"
        },
        "id": "cfqQ5SmP2DrK",
        "outputId": "c2d2295b-d7dd-4757-a086-f1b965c2af0e"
      },
      "execution_count": null,
      "outputs": [
        {
          "output_type": "execute_result",
          "data": {
            "text/plain": [
              "300"
            ]
          },
          "metadata": {},
          "execution_count": 66
        }
      ]
    },
    {
      "cell_type": "code",
      "source": [
        "total_pants_sales = pants_cost * pants_sold"
      ],
      "metadata": {
        "id": "w484V89U2HmJ"
      },
      "execution_count": null,
      "outputs": []
    },
    {
      "cell_type": "code",
      "source": [
        "total_pants_sales"
      ],
      "metadata": {
        "colab": {
          "base_uri": "https://localhost:8080/"
        },
        "id": "T6ayyi892STq",
        "outputId": "fc7f2183-c910-417d-f498-b004394b8dc0"
      },
      "execution_count": null,
      "outputs": [
        {
          "output_type": "execute_result",
          "data": {
            "text/plain": [
              "675"
            ]
          },
          "metadata": {},
          "execution_count": 68
        }
      ]
    },
    {
      "cell_type": "code",
      "source": [
        "total_shoes_sold = shoes_cost * shoes_sold"
      ],
      "metadata": {
        "id": "q93198Ok2U2a"
      },
      "execution_count": null,
      "outputs": []
    },
    {
      "cell_type": "code",
      "source": [
        "total_shoes_sold"
      ],
      "metadata": {
        "colab": {
          "base_uri": "https://localhost:8080/"
        },
        "id": "FjHJVPlf2dF8",
        "outputId": "98ca9ae6-dfce-4832-f150-20511629ba85"
      },
      "execution_count": null,
      "outputs": [
        {
          "output_type": "execute_result",
          "data": {
            "text/plain": [
              "630"
            ]
          },
          "metadata": {},
          "execution_count": 70
        }
      ]
    },
    {
      "cell_type": "markdown",
      "source": [
        "# Vectors"
      ],
      "metadata": {
        "id": "KDRX5oWh3yhQ"
      }
    },
    {
      "cell_type": "code",
      "source": [
        "# must use import to use these functions"
      ],
      "metadata": {
        "id": "CcKdtZIZmtMa"
      },
      "execution_count": null,
      "outputs": []
    },
    {
      "cell_type": "code",
      "source": [
        "import numpy as np"
      ],
      "metadata": {
        "id": "jYkYku8a32GA"
      },
      "execution_count": null,
      "outputs": []
    },
    {
      "cell_type": "code",
      "source": [
        "import matplotlib.pyplot as plt"
      ],
      "metadata": {
        "id": "_-tS5QA24HBA"
      },
      "execution_count": null,
      "outputs": []
    },
    {
      "cell_type": "code",
      "source": [
        "np.arange(10)"
      ],
      "metadata": {
        "colab": {
          "base_uri": "https://localhost:8080/"
        },
        "id": "a3MfUwTX4QAZ",
        "outputId": "35d42d7e-fa18-4b40-9b0b-5a88c1293382"
      },
      "execution_count": null,
      "outputs": [
        {
          "output_type": "execute_result",
          "data": {
            "text/plain": [
              "array([0, 1, 2, 3, 4, 5, 6, 7, 8, 9])"
            ]
          },
          "metadata": {},
          "execution_count": 73
        }
      ]
    },
    {
      "cell_type": "code",
      "source": [
        "x =np.arange(10)"
      ],
      "metadata": {
        "id": "qFfVR6QP4T55"
      },
      "execution_count": null,
      "outputs": []
    },
    {
      "cell_type": "code",
      "source": [
        "x"
      ],
      "metadata": {
        "colab": {
          "base_uri": "https://localhost:8080/"
        },
        "id": "DRD3pc4o4qJJ",
        "outputId": "b6665738-6be3-41e9-a82e-c294ef2579f3"
      },
      "execution_count": null,
      "outputs": [
        {
          "output_type": "execute_result",
          "data": {
            "text/plain": [
              "array([0, 1, 2, 3, 4, 5, 6, 7, 8, 9])"
            ]
          },
          "metadata": {},
          "execution_count": 77
        }
      ]
    },
    {
      "cell_type": "code",
      "source": [
        "x*2"
      ],
      "metadata": {
        "colab": {
          "base_uri": "https://localhost:8080/"
        },
        "id": "gq644ZHV4rNq",
        "outputId": "9f688fe8-11f4-475b-95a3-c47470145a5d"
      },
      "execution_count": null,
      "outputs": [
        {
          "output_type": "execute_result",
          "data": {
            "text/plain": [
              "array([ 0,  2,  4,  6,  8, 10, 12, 14, 16, 18])"
            ]
          },
          "metadata": {},
          "execution_count": 78
        }
      ]
    },
    {
      "cell_type": "code",
      "source": [
        "x**2"
      ],
      "metadata": {
        "colab": {
          "base_uri": "https://localhost:8080/"
        },
        "id": "O3-kxZnp4xuq",
        "outputId": "18e0cb75-274e-43c6-ceba-c468dc48bfe8"
      },
      "execution_count": null,
      "outputs": [
        {
          "output_type": "execute_result",
          "data": {
            "text/plain": [
              "array([ 0,  1,  4,  9, 16, 25, 36, 49, 64, 81])"
            ]
          },
          "metadata": {},
          "execution_count": 79
        }
      ]
    },
    {
      "cell_type": "code",
      "source": [
        "y = 3*x+5"
      ],
      "metadata": {
        "id": "ncMsMHCH405Z"
      },
      "execution_count": null,
      "outputs": []
    },
    {
      "cell_type": "code",
      "source": [
        "x"
      ],
      "metadata": {
        "colab": {
          "base_uri": "https://localhost:8080/"
        },
        "id": "GprrIPh845yo",
        "outputId": "bf48b70d-750d-4731-899a-768f44e6aa25"
      },
      "execution_count": null,
      "outputs": [
        {
          "output_type": "execute_result",
          "data": {
            "text/plain": [
              "array([0, 1, 2, 3, 4, 5, 6, 7, 8, 9])"
            ]
          },
          "metadata": {},
          "execution_count": 84
        }
      ]
    },
    {
      "cell_type": "code",
      "source": [
        "y"
      ],
      "metadata": {
        "colab": {
          "base_uri": "https://localhost:8080/"
        },
        "id": "_YPzGNDU4-mZ",
        "outputId": "d7e7b6e5-628e-47d5-cc49-331bb2011952"
      },
      "execution_count": null,
      "outputs": [
        {
          "output_type": "execute_result",
          "data": {
            "text/plain": [
              "array([ 5,  8, 11, 14, 17, 20, 23, 26, 29, 32])"
            ]
          },
          "metadata": {},
          "execution_count": 85
        }
      ]
    },
    {
      "cell_type": "code",
      "source": [
        "plt.plot(x,y)"
      ],
      "metadata": {
        "colab": {
          "base_uri": "https://localhost:8080/",
          "height": 282
        },
        "id": "edY_Cvi_4_BY",
        "outputId": "cf030f0b-8def-4582-bc94-c31bf435555d"
      },
      "execution_count": null,
      "outputs": [
        {
          "output_type": "execute_result",
          "data": {
            "text/plain": [
              "[<matplotlib.lines.Line2D at 0x7fd1bd53ae90>]"
            ]
          },
          "metadata": {},
          "execution_count": 86
        },
        {
          "output_type": "display_data",
          "data": {
            "text/plain": [
              "<Figure size 432x288 with 1 Axes>"
            ],
            "image/png": "[encoded data removed]"
          },
          "metadata": {
            "needs_background": "light"
          }
        }
      ]
    },
    {
      "cell_type": "code",
      "source": [
        "plt.plot(x,y,'.') #explain all of this"
      ],
      "metadata": {
        "colab": {
          "base_uri": "https://localhost:8080/",
          "height": 282
        },
        "id": "j76lZD3J5RA5",
        "outputId": "4532a198-dfa8-45e5-e9ba-16db25cd90f1"
      },
      "execution_count": null,
      "outputs": [
        {
          "output_type": "execute_result",
          "data": {
            "text/plain": [
              "[<matplotlib.lines.Line2D at 0x7fd1bcf5ebd0>]"
            ]
          },
          "metadata": {},
          "execution_count": 88
        },
        {
          "output_type": "display_data",
          "data": {
            "text/plain": [
              "<Figure size 432x288 with 1 Axes>"
            ],
            "image/png": "[encoded data removed]"
          },
          "metadata": {
            "needs_background": "light"
          }
        }
      ]
    },
    {
      "cell_type": "code",
      "source": [
        "plt.plot(x,y,'r--')"
      ],
      "metadata": {
        "colab": {
          "base_uri": "https://localhost:8080/",
          "height": 282
        },
        "id": "OSzciwNw5_AE",
        "outputId": "2e9e30c7-3a12-47cf-da78-35c4dabed24d"
      },
      "execution_count": null,
      "outputs": [
        {
          "output_type": "execute_result",
          "data": {
            "text/plain": [
              "[<matplotlib.lines.Line2D at 0x7fd1bceb1e10>]"
            ]
          },
          "metadata": {},
          "execution_count": 92
        },
        {
          "output_type": "display_data",
          "data": {
            "text/plain": [
              "<Figure size 432x288 with 1 Axes>"
            ],
            "image/png": "[encoded data removed]"
          },
          "metadata": {
            "needs_background": "light"
          }
        }
      ]
    },
    {
      "cell_type": "code",
      "source": [
        "plt.plot(x,y,'b--')"
      ],
      "metadata": {
        "colab": {
          "base_uri": "https://localhost:8080/",
          "height": 282
        },
        "id": "mOGy1F_D6Q0s",
        "outputId": "d3c7a4ef-5511-41cc-c2b0-1f9a40ae3c77"
      },
      "execution_count": null,
      "outputs": [
        {
          "output_type": "execute_result",
          "data": {
            "text/plain": [
              "[<matplotlib.lines.Line2D at 0x7fd1bce26310>]"
            ]
          },
          "metadata": {},
          "execution_count": 93
        },
        {
          "output_type": "display_data",
          "data": {
            "text/plain": [
              "<Figure size 432x288 with 1 Axes>"
            ],
            "image/png": "[encoded data removed]"
          },
          "metadata": {
            "needs_background": "light"
          }
        }
      ]
    },
    {
      "cell_type": "code",
      "source": [
        "plt.plot(x,y,'g--')"
      ],
      "metadata": {
        "colab": {
          "base_uri": "https://localhost:8080/",
          "height": 282
        },
        "id": "SBhBE5Dr7HwD",
        "outputId": "a8918aa3-d901-4867-d5cc-8dd0ffa1e43c"
      },
      "execution_count": null,
      "outputs": [
        {
          "output_type": "execute_result",
          "data": {
            "text/plain": [
              "[<matplotlib.lines.Line2D at 0x7fd1bcd8f290>]"
            ]
          },
          "metadata": {},
          "execution_count": 94
        },
        {
          "output_type": "display_data",
          "data": {
            "text/plain": [
              "<Figure size 432x288 with 1 Axes>"
            ],
            "image/png": "[encoded data removed]"
          },
          "metadata": {
            "needs_background": "light"
          }
        }
      ]
    },
    {
      "cell_type": "code",
      "source": [
        "# use mathplot website"
      ],
      "metadata": {
        "id": "czWsGjQ_7QsL"
      },
      "execution_count": null,
      "outputs": []
    },
    {
      "cell_type": "code",
      "source": [
        "# examples from the internet"
      ],
      "metadata": {
        "id": "AS0YZTeHLIPX"
      },
      "execution_count": null,
      "outputs": []
    },
    {
      "cell_type": "code",
      "source": [
        "# x axis values \n",
        "x = [1,2,3] \n",
        "# corresponding y axis values \n",
        "y = [2,4,1] \n",
        "    \n",
        "# plotting the points  \n",
        "plt.plot(x, y) \n",
        "    \n",
        "# naming the x axis \n",
        "plt.xlabel('x - axis') \n",
        "# naming the y axis \n",
        "plt.ylabel('y - axis') \n",
        "    \n",
        "# giving a title to my graph \n",
        "plt.title('My first graph!') \n",
        "    \n",
        "# function to show the plot \n",
        "plt.show() "
      ],
      "metadata": {
        "colab": {
          "base_uri": "https://localhost:8080/",
          "height": 295
        },
        "id": "wrnzzMlE7fc5",
        "outputId": "9305badb-8d10-403b-e6a5-4a040f855901"
      },
      "execution_count": null,
      "outputs": [
        {
          "output_type": "display_data",
          "data": {
            "text/plain": [
              "<Figure size 432x288 with 1 Axes>"
            ],
            "image/png": "[encoded data removed]"
          },
          "metadata": {
            "needs_background": "light"
          }
        }
      ]
    },
    {
      "cell_type": "code",
      "source": [
        "a = [1, 2, 3, 4, 5]\n",
        "b = [0, 0.6, 0.2, 15, 10, 8, 16, 21]\n",
        "plt.plot(a)\n",
        "  \n",
        "# o is for circles and r is \n",
        "# for red\n",
        "plt.plot(b, \"or\")\n",
        "  \n",
        "plt.plot(list(range(0, 22, 3)))\n",
        "  \n",
        "# naming the x-axis\n",
        "plt.xlabel('Day ->')\n",
        "  \n",
        "# naming the y-axis\n",
        "plt.ylabel('Temp ->')\n",
        "  \n",
        "c = [4, 2, 6, 8, 3, 20, 13, 15]\n",
        "plt.plot(c, label = '4th Rep')\n",
        "  \n",
        "# get current axes command\n",
        "ax = plt.gca()\n",
        "  \n",
        "# get command over the individual\n",
        "# boundary line of the graph body\n",
        "ax.spines['right'].set_visible(False)\n",
        "ax.spines['top'].set_visible(False)\n",
        "  \n",
        "# set the range or the bounds of \n",
        "# the left boundary line to fixed range\n",
        "ax.spines['left'].set_bounds(-3, 40)\n",
        "  \n",
        "# set the interval by  which \n",
        "# the x-axis set the marks\n",
        "plt.xticks(list(range(-3, 10)))\n",
        "  \n",
        "# set the intervals by which y-axis\n",
        "# set the marks\n",
        "plt.yticks(list(range(-3, 20, 3)))\n",
        "  \n",
        "# legend denotes that what color \n",
        "# signifies what\n",
        "ax.legend(['1st Rep', '2nd Rep', '3rd Rep', '4th Rep'])\n",
        "  \n",
        "# annotate command helps to write\n",
        "# ON THE GRAPH any text xy denotes \n",
        "# the position on the graph\n",
        "plt.annotate('Temperature V / s Days', xy = (1.01, -2.15))\n",
        "  \n",
        "# gives a title to the Graph\n",
        "plt.title('All Features Discussed')\n",
        "  \n",
        "plt.show()"
      ],
      "metadata": {
        "colab": {
          "base_uri": "https://localhost:8080/",
          "height": 435
        },
        "id": "luVcPt2a8Qpa",
        "outputId": "b20ea017-f3dc-4300-d41c-68ca1950a99c"
      },
      "execution_count": null,
      "outputs": [
        {
          "output_type": "display_data",
          "data": {
            "text/plain": [
              "<Figure size 432x288 with 1 Axes>"
            ],
            "image/png": "[encoded data removed]"
          },
          "metadata": {
            "needs_background": "light"
          }
        }
      ]
    },
    {
      "cell_type": "code",
      "source": [
        "a = [1, 2, 3, 4, 5]\n",
        "b = [0, 0.6, 0.2, 15, 10, 8, 16, 21]\n",
        "c = [4, 2, 6, 8, 3, 20, 13, 15]\n",
        "  \n",
        "# use fig whenever u want the \n",
        "# output in a new window also \n",
        "# specify the window size you\n",
        "# want ans to be displayed\n",
        "fig = plt.figure(figsize =(10, 10))\n",
        "  \n",
        "# creating multiple plots in a \n",
        "# single plot\n",
        "sub1 = plt.subplot(2, 2, 1)\n",
        "sub2 = plt.subplot(2, 2, 2)\n",
        "sub3 = plt.subplot(2, 2, 3)\n",
        "sub4 = plt.subplot(2, 2, 4)\n",
        "  \n",
        "sub1.plot(a, 'sb')\n",
        "  \n",
        "# sets how the display subplot \n",
        "# x axis values advances by 1\n",
        "# within the specified range\n",
        "sub1.set_xticks(list(range(0, 10, 1)))\n",
        "sub1.set_title('1st Rep')\n",
        "  \n",
        "sub2.plot(b, 'or')\n",
        "  \n",
        "# sets how the display subplot x axis\n",
        "# values advances by 2 within the\n",
        "# specified range\n",
        "sub2.set_xticks(list(range(0, 10, 2)))\n",
        "sub2.set_title('2nd Rep')\n",
        "  \n",
        "# can directly pass a list in the plot\n",
        "# function instead adding the reference\n",
        "sub3.plot(list(range(0, 22, 3)), 'vg')\n",
        "sub3.set_xticks(list(range(0, 10, 1)))\n",
        "sub3.set_title('3rd Rep')\n",
        "  \n",
        "sub4.plot(c, 'Dm')\n",
        "  \n",
        "# similarly we can set the ticks for \n",
        "# the y-axis range(start(inclusive),\n",
        "# end(exclusive), step)\n",
        "sub4.set_yticks(list(range(0, 24, 2)))\n",
        "sub4.set_title('4th Rep')\n",
        "  \n",
        "# without writing plt.show() no plot\n",
        "# will be visible\n",
        "plt.show()"
      ],
      "metadata": {
        "colab": {
          "base_uri": "https://localhost:8080/",
          "height": 607
        },
        "id": "qMFmekLN8dlk",
        "outputId": "1b6534e6-71cd-4d71-e0c9-34854e52b877"
      },
      "execution_count": null,
      "outputs": [
        {
          "output_type": "display_data",
          "data": {
            "text/plain": [
              "<Figure size 720x720 with 4 Axes>"
            ],
            "image/png": "[encoded data removed]"
          },
          "metadata": {
            "needs_background": "light"
          }
        }
      ]
    },
    {
      "cell_type": "code",
      "source": [
        "plt.plot(x,y,marker ='o')\n",
        "linestyle = 'None'"
      ],
      "metadata": {
        "colab": {
          "base_uri": "https://localhost:8080/",
          "height": 265
        },
        "id": "TBQdxwQW8kip",
        "outputId": "5cf9f4a0-c675-4bd9-dd1f-db209c76d842"
      },
      "execution_count": null,
      "outputs": [
        {
          "output_type": "display_data",
          "data": {
            "text/plain": [
              "<Figure size 432x288 with 1 Axes>"
            ],
            "image/png": "[encoded data removed]"
          },
          "metadata": {
            "needs_background": "light"
          }
        }
      ]
    },
    {
      "cell_type": "code",
      "source": [
        "x = np.linspace(0, 10, 100)"
      ],
      "metadata": {
        "id": "ZR5BbeC19WXr"
      },
      "execution_count": null,
      "outputs": []
    },
    {
      "cell_type": "code",
      "source": [
        "x"
      ],
      "metadata": {
        "colab": {
          "base_uri": "https://localhost:8080/"
        },
        "id": "-LQ50qap9lrq",
        "outputId": "21c1e600-c99e-4814-ac25-927f5e1c64e3"
      },
      "execution_count": null,
      "outputs": [
        {
          "output_type": "execute_result",
          "data": {
            "text/plain": [
              "array([ 0.        ,  0.1010101 ,  0.2020202 ,  0.3030303 ,  0.4040404 ,\n",
              "        0.50505051,  0.60606061,  0.70707071,  0.80808081,  0.90909091,\n",
              "        1.01010101,  1.11111111,  1.21212121,  1.31313131,  1.41414141,\n",
              "        1.51515152,  1.61616162,  1.71717172,  1.81818182,  1.91919192,\n",
              "        2.02020202,  2.12121212,  2.22222222,  2.32323232,  2.42424242,\n",
              "        2.52525253,  2.62626263,  2.72727273,  2.82828283,  2.92929293,\n",
              "        3.03030303,  3.13131313,  3.23232323,  3.33333333,  3.43434343,\n",
              "        3.53535354,  3.63636364,  3.73737374,  3.83838384,  3.93939394,\n",
              "        4.04040404,  4.14141414,  4.24242424,  4.34343434,  4.44444444,\n",
              "        4.54545455,  4.64646465,  4.74747475,  4.84848485,  4.94949495,\n",
              "        5.05050505,  5.15151515,  5.25252525,  5.35353535,  5.45454545,\n",
              "        5.55555556,  5.65656566,  5.75757576,  5.85858586,  5.95959596,\n",
              "        6.06060606,  6.16161616,  6.26262626,  6.36363636,  6.46464646,\n",
              "        6.56565657,  6.66666667,  6.76767677,  6.86868687,  6.96969697,\n",
              "        7.07070707,  7.17171717,  7.27272727,  7.37373737,  7.47474747,\n",
              "        7.57575758,  7.67676768,  7.77777778,  7.87878788,  7.97979798,\n",
              "        8.08080808,  8.18181818,  8.28282828,  8.38383838,  8.48484848,\n",
              "        8.58585859,  8.68686869,  8.78787879,  8.88888889,  8.98989899,\n",
              "        9.09090909,  9.19191919,  9.29292929,  9.39393939,  9.49494949,\n",
              "        9.5959596 ,  9.6969697 ,  9.7979798 ,  9.8989899 , 10.        ])"
            ]
          },
          "metadata": {},
          "execution_count": 106
        }
      ]
    },
    {
      "cell_type": "code",
      "source": [
        "w = np.linspace(0,5,10)"
      ],
      "metadata": {
        "id": "782DKuxq9mG7"
      },
      "execution_count": null,
      "outputs": []
    },
    {
      "cell_type": "code",
      "source": [
        "w"
      ],
      "metadata": {
        "colab": {
          "base_uri": "https://localhost:8080/"
        },
        "id": "ZsLi77Nk9v5r",
        "outputId": "53dd39c3-c493-4b39-d1a0-e0e3979b6cee"
      },
      "execution_count": null,
      "outputs": [
        {
          "output_type": "execute_result",
          "data": {
            "text/plain": [
              "array([0.        , 0.55555556, 1.11111111, 1.66666667, 2.22222222,\n",
              "       2.77777778, 3.33333333, 3.88888889, 4.44444444, 5.        ])"
            ]
          },
          "metadata": {},
          "execution_count": 108
        }
      ]
    },
    {
      "cell_type": "code",
      "source": [
        "y = x**2\n",
        "plt.plot(x,y,marker ='o')\n",
        "linestyle = 'None'"
      ],
      "metadata": {
        "colab": {
          "base_uri": "https://localhost:8080/",
          "height": 265
        },
        "id": "HqD6-7Oz9xFK",
        "outputId": "743220b4-41cc-4761-af1a-7fcdb8bb9367"
      },
      "execution_count": null,
      "outputs": [
        {
          "output_type": "display_data",
          "data": {
            "text/plain": [
              "<Figure size 432x288 with 1 Axes>"
            ],
            "image/png": "[encoded data removed]"
          },
          "metadata": {
            "needs_background": "light"
          }
        }
      ]
    },
    {
      "cell_type": "code",
      "source": [
        "y = x**4\n",
        "plt.plot(x,y,marker ='o')\n",
        "linestyle = 'None'\n",
        "plt.title(\"Sales\")"
      ],
      "metadata": {
        "colab": {
          "base_uri": "https://localhost:8080/",
          "height": 298
        },
        "id": "iEB_h2PO-TNN",
        "outputId": "e47ef04f-5d11-42eb-eb81-5a7c09001b10"
      },
      "execution_count": null,
      "outputs": [
        {
          "output_type": "execute_result",
          "data": {
            "text/plain": [
              "Text(0.5, 1.0, 'Sales')"
            ]
          },
          "metadata": {},
          "execution_count": 117
        },
        {
          "output_type": "display_data",
          "data": {
            "text/plain": [
              "<Figure size 432x288 with 1 Axes>"
            ],
            "image/png": "[encoded data removed]"
          },
          "metadata": {
            "needs_background": "light"
          }
        }
      ]
    },
    {
      "cell_type": "code",
      "source": [
        "y = x**4\n",
        "plt.plot(x,y,marker ='o')\n",
        "linestyle = 'None'\n",
        "plt.title(\"Sales\")\n",
        "plt.xlabel(\" x axis label goes here\")\n",
        "plt.ylabel(\" y axis label goes here\")"
      ],
      "metadata": {
        "colab": {
          "base_uri": "https://localhost:8080/",
          "height": 312
        },
        "id": "XY6Ufm52-xC-",
        "outputId": "94468046-54e4-42fb-90d7-720bba70f141"
      },
      "execution_count": null,
      "outputs": [
        {
          "output_type": "execute_result",
          "data": {
            "text/plain": [
              "Text(0, 0.5, ' y axis label goes here')"
            ]
          },
          "metadata": {},
          "execution_count": 118
        },
        {
          "output_type": "display_data",
          "data": {
            "text/plain": [
              "<Figure size 432x288 with 1 Axes>"
            ],
            "image/png": "[encoded data removed]"
          },
          "metadata": {
            "needs_background": "light"
          }
        }
      ]
    },
    {
      "cell_type": "code",
      "source": [
        "y = x**4\n",
        "plt.plot(x,y,marker ='o')\n",
        "linestyle = 'None'\n",
        "plt.title(\"Sales\")\n",
        "plt.xlabel(\" x axis label goes here\")\n",
        "plt.ylabel(\" y axis label goes here\")\n",
        "plt.legend\n",
        "\n",
        "x =np.linspace(0,2,100)\n",
        "\n",
        "plt.plot(x,x,label=\"linear\")\n",
        "plt.plot(x,x**2,label=\"sqaured\")\n",
        "plt.plot(x,x**3,label=\"cubed\")\n",
        "plt.legend()"
      ],
      "metadata": {
        "colab": {
          "base_uri": "https://localhost:8080/",
          "height": 312
        },
        "id": "2QMjcIMvAMqM",
        "outputId": "02eb7735-5045-4052-c27a-3aff2975e13d"
      },
      "execution_count": null,
      "outputs": [
        {
          "output_type": "execute_result",
          "data": {
            "text/plain": [
              "<matplotlib.legend.Legend at 0x7fd1bc498b10>"
            ]
          },
          "metadata": {},
          "execution_count": 121
        },
        {
          "output_type": "display_data",
          "data": {
            "text/plain": [
              "<Figure size 432x288 with 1 Axes>"
            ],
            "image/png": "[encoded data removed]"
          },
          "metadata": {
            "needs_background": "light"
          }
        }
      ]
    },
    {
      "cell_type": "code",
      "source": [
        "y = x**4\n",
        "plt.plot(x,y,marker ='o')\n",
        "linestyle = 'None'\n",
        "plt.title(\"Sales\")\n",
        "plt.xlabel(\" x axis label goes here\")\n",
        "plt.ylabel(\" y axis label goes here\")\n",
        "plt.legend\n",
        "\n",
        "x =np.linspace(0,2,100)\n",
        "\n",
        "plt.plot(x,x,'r--',label=\"linear\")\n",
        "plt.plot(x,x**2,'bs',label=\"sqaured\")\n",
        "plt.plot(x,x**3,'g^',label=\"cubed\")\n",
        "plt.legend()"
      ],
      "metadata": {
        "colab": {
          "base_uri": "https://localhost:8080/",
          "height": 312
        },
        "id": "QSbewMMyC1Ac",
        "outputId": "b7533bd3-d53f-4ca9-c0aa-9315cf8b022a"
      },
      "execution_count": null,
      "outputs": [
        {
          "output_type": "execute_result",
          "data": {
            "text/plain": [
              "<matplotlib.legend.Legend at 0x7fd1bc624410>"
            ]
          },
          "metadata": {},
          "execution_count": 123
        },
        {
          "output_type": "display_data",
          "data": {
            "text/plain": [
              "<Figure size 432x288 with 1 Axes>"
            ],
            "image/png": "[encoded data removed]"
          },
          "metadata": {
            "needs_background": "light"
          }
        }
      ]
    },
    {
      "cell_type": "code",
      "source": [
        "names =['cat','dog','bird']"
      ],
      "metadata": {
        "id": "wzlSDuMJDmDL"
      },
      "execution_count": null,
      "outputs": []
    },
    {
      "cell_type": "code",
      "source": [
        "names[0]"
      ],
      "metadata": {
        "colab": {
          "base_uri": "https://localhost:8080/",
          "height": 35
        },
        "id": "G4T0HNY4Ev4N",
        "outputId": "1d26845e-a146-4d56-d811-3168e598c25f"
      },
      "execution_count": null,
      "outputs": [
        {
          "output_type": "execute_result",
          "data": {
            "text/plain": [
              "'cat'"
            ],
            "application/vnd.google.colaboratory.intrinsic+json": {
              "type": "string"
            }
          },
          "metadata": {},
          "execution_count": 127
        }
      ]
    },
    {
      "cell_type": "code",
      "source": [
        "names[1]"
      ],
      "metadata": {
        "colab": {
          "base_uri": "https://localhost:8080/",
          "height": 35
        },
        "id": "Yw1QFV8TExtt",
        "outputId": "bc4a6350-4575-4b07-e368-e9cdae0eb7f0"
      },
      "execution_count": null,
      "outputs": [
        {
          "output_type": "execute_result",
          "data": {
            "text/plain": [
              "'dog'"
            ],
            "application/vnd.google.colaboratory.intrinsic+json": {
              "type": "string"
            }
          },
          "metadata": {},
          "execution_count": 128
        }
      ]
    },
    {
      "cell_type": "code",
      "source": [
        "names[2]"
      ],
      "metadata": {
        "colab": {
          "base_uri": "https://localhost:8080/",
          "height": 35
        },
        "id": "7o9Fo5evE2PL",
        "outputId": "4bbc9e69-844f-4dea-d7f3-f0eeaa48ec16"
      },
      "execution_count": null,
      "outputs": [
        {
          "output_type": "execute_result",
          "data": {
            "text/plain": [
              "'bird'"
            ],
            "application/vnd.google.colaboratory.intrinsic+json": {
              "type": "string"
            }
          },
          "metadata": {},
          "execution_count": 129
        }
      ]
    },
    {
      "cell_type": "code",
      "source": [
        "values = [15,10,5]"
      ],
      "metadata": {
        "id": "1NzL2UEuE4i7"
      },
      "execution_count": null,
      "outputs": []
    },
    {
      "cell_type": "code",
      "source": [
        "plt.figure(1,figsize=(10,10))\n",
        "plt.subplot(1,3,1)\n",
        "plt.bar(names,values)\n",
        "\n",
        "plt.subplot(1,3,2)\n",
        "plt.scatter(names,values)\n",
        "\n",
        "plt.subplot(1,3,3)\n",
        "plt.plot(names,values)"
      ],
      "metadata": {
        "colab": {
          "base_uri": "https://localhost:8080/",
          "height": 609
        },
        "id": "pN6LJ0LLFMNs",
        "outputId": "c969cdf4-3cca-4057-c77f-5b6f36662e85"
      },
      "execution_count": null,
      "outputs": [
        {
          "output_type": "execute_result",
          "data": {
            "text/plain": [
              "[<matplotlib.lines.Line2D at 0x7fd1bcaf36d0>]"
            ]
          },
          "metadata": {},
          "execution_count": 134
        },
        {
          "output_type": "display_data",
          "data": {
            "text/plain": [
              "<Figure size 720x720 with 3 Axes>"
            ],
            "image/png": "[encoded data removed]"
          },
          "metadata": {
            "needs_background": "light"
          }
        }
      ]
    },
    {
      "cell_type": "code",
      "source": [
        "plt.figure(1,figsize=(10,10))\n",
        "plt.subplot(2,2,1)\n",
        "plt.bar(names,values)\n",
        "# rows, colums, how many\n",
        "plt.subplot(2,2,2)\n",
        "plt.scatter(names,values)\n",
        "\n",
        "plt.subplot(2,2,3)\n",
        "plt.plot(names,values)\n",
        "\n",
        "plt.subplot(2,2,4)\n",
        "plt.plot(names,values)"
      ],
      "metadata": {
        "colab": {
          "base_uri": "https://localhost:8080/",
          "height": 609
        },
        "id": "ZFWxlYjNGNxs",
        "outputId": "bcd3ce58-4ed5-4276-e445-e3db03fd5f6c"
      },
      "execution_count": null,
      "outputs": [
        {
          "output_type": "execute_result",
          "data": {
            "text/plain": [
              "[<matplotlib.lines.Line2D at 0x7fd1bc2e0490>]"
            ]
          },
          "metadata": {},
          "execution_count": 136
        },
        {
          "output_type": "display_data",
          "data": {
            "text/plain": [
              "<Figure size 720x720 with 4 Axes>"
            ],
            "image/png": "[encoded data removed]"
          },
          "metadata": {
            "needs_background": "light"
          }
        }
      ]
    },
    {
      "cell_type": "markdown",
      "source": [],
      "metadata": {
        "id": "BqB_czWHY7Hy"
      }
    },
    {
      "cell_type": "markdown",
      "source": [
        "## Style Guide for Colab Markdown\n",
        "https://colab.research.google.com/notebooks/markdown_guide.ipynb"
      ],
      "metadata": {
        "id": "Q426Yo5gadeu"
      }
    },
    {
      "cell_type": "code",
      "source": [
        "# to make subheaders"
      ],
      "metadata": {
        "id": "Hqg3QV8BjM_a"
      },
      "execution_count": null,
      "outputs": []
    },
    {
      "cell_type": "code",
      "source": [
        "## to make section subheaders"
      ],
      "metadata": {
        "id": "uAYnaqJKjU7_"
      },
      "execution_count": null,
      "outputs": []
    },
    {
      "cell_type": "markdown",
      "source": [
        "# Inserting Images"
      ],
      "metadata": {
        "id": "xQpmYVlejcr4"
      }
    },
    {
      "cell_type": "markdown",
      "source": [
        "<img src = \"https://upload.wikimedia.org/wikipedia/commons/thumb/e/e3/Oranges_-_whole-halved-segment.jpg/1200px-Oranges_-_whole-halved-segment.jpg\" width = 200>"
      ],
      "metadata": {
        "id": "XEG4Lg7aZASP"
      }
    },
    {
      "cell_type": "code",
      "source": [
        "# <img scr = \"\" to insert images"
      ],
      "metadata": {
        "id": "UBqbcRqwjmcU"
      },
      "execution_count": null,
      "outputs": []
    },
    {
      "cell_type": "markdown",
      "source": [
        "# Math LaTeX"
      ],
      "metadata": {
        "id": "3Ug8djqjjz4O"
      }
    },
    {
      "cell_type": "code",
      "source": [
        "# use text boxes for mathematics"
      ],
      "metadata": {
        "id": "QpucYMvUmL7d"
      },
      "execution_count": null,
      "outputs": []
    },
    {
      "cell_type": "markdown",
      "source": [
        "## Math Typesetting\n",
        "\n",
        "[LaTeX Guide](https://github.com/williamedwardhahn/Probability_Statistics/blob/main/Math_LaTeX.pdf)"
      ],
      "metadata": {
        "id": "GvremPC-wnhg"
      }
    },
    {
      "cell_type": "markdown",
      "source": [
        "x"
      ],
      "metadata": {
        "id": "BoygBYrskO1x"
      }
    },
    {
      "cell_type": "code",
      "source": [
        "# $_$ makes it go into math mode"
      ],
      "metadata": {
        "id": "hiE1R5MvkSXi"
      },
      "execution_count": null,
      "outputs": []
    },
    {
      "cell_type": "markdown",
      "source": [
        "$x$"
      ],
      "metadata": {
        "id": "PupAdFqDw8oQ"
      }
    },
    {
      "cell_type": "markdown",
      "source": [
        "$y = m x + b$"
      ],
      "metadata": {
        "id": "h_lld1nvbjZC"
      }
    },
    {
      "cell_type": "markdown",
      "source": [
        "$\\frac{a}{b}$"
      ],
      "metadata": {
        "id": "iT69ftAhbpgc"
      }
    },
    {
      "cell_type": "markdown",
      "source": [
        "$a^b$"
      ],
      "metadata": {
        "id": "DUBhLAawmS2s"
      }
    },
    {
      "cell_type": "markdown",
      "source": [
        "$a_b$"
      ],
      "metadata": {
        "id": "4pYW8QODyAV7"
      }
    },
    {
      "cell_type": "markdown",
      "source": [
        "$f(x) = \\frac{1}{\\sigma\\sqrt{2\\pi}}e^{-\\frac{1}{2}(\\frac{x-\\mu}{\\sigma})^2}$"
      ],
      "metadata": {
        "id": "LkU2F2mhxRpP"
      }
    },
    {
      "cell_type": "code",
      "source": [
        "import numpy as np\n",
        "import matplotlib.pyplot as plt\n",
        "\n",
        "\n",
        "def koch_snowflake(order, scale=10):\n",
        "    \"\"\"\n",
        "    Return two lists x, y of point coordinates of the Koch snowflake.\n",
        "\n",
        "    Parameters\n",
        "    ----------\n",
        "    order : int\n",
        "        The recursion depth.\n",
        "    scale : float\n",
        "        The extent of the snowflake (edge length of the base triangle).\n",
        "    \"\"\"\n",
        "    def _koch_snowflake_complex(order):\n",
        "        if order == 0:\n",
        "            # initial triangle\n",
        "            angles = np.array([0, 120, 240]) + 90\n",
        "            return scale / np.sqrt(3) * np.exp(np.deg2rad(angles) * 1j)\n",
        "        else:\n",
        "            ZR = 0.5 - 0.5j * np.sqrt(3) / 3\n",
        "\n",
        "            p1 = _koch_snowflake_complex(order - 1)  # start points\n",
        "            p2 = np.roll(p1, shift=-1)  # end points\n",
        "            dp = p2 - p1  # connection vectors\n",
        "\n",
        "            new_points = np.empty(len(p1) * 4, dtype=np.complex128)\n",
        "            new_points[::4] = p1\n",
        "            new_points[1::4] = p1 + dp / 3\n",
        "            new_points[2::4] = p1 + dp * ZR\n",
        "            new_points[3::4] = p1 + dp / 3 * 2\n",
        "            return new_points\n",
        "\n",
        "    points = _koch_snowflake_complex(order)\n",
        "    x, y = points.real, points.imag\n",
        "    return x, y"
      ],
      "metadata": {
        "id": "B0RMfyOS3tnE"
      },
      "execution_count": null,
      "outputs": []
    },
    {
      "cell_type": "code",
      "source": [
        "x, y = koch_snowflake(order=5)\n",
        "\n",
        "plt.figure(figsize=(8, 8))\n",
        "plt.axis('equal')\n",
        "plt.fill(x, y)\n",
        "plt.show()"
      ],
      "metadata": {
        "id": "gm7EKm9030Y0",
        "outputId": "9152ea75-6c60-4f0d-e3e5-fc84bca3c12f",
        "colab": {
          "base_uri": "https://localhost:8080/",
          "height": 483
        }
      },
      "execution_count": null,
      "outputs": [
        {
          "output_type": "display_data",
          "data": {
            "text/plain": [
              "<Figure size 576x576 with 1 Axes>"
            ],
            "image/png": "[encoded data removed]"
          },
          "metadata": {
            "needs_background": "light"
          }
        }
      ]
    },
    {
      "cell_type": "markdown",
      "source": [
        "## Excersises"
      ],
      "metadata": {
        "id": "D_McXd5hYB62"
      }
    },
    {
      "cell_type": "markdown",
      "source": [
        "Plot the following functions from $x = -10$ to $x = 10$ \n",
        "\n",
        "(Hint: np.sin, np.exp)"
      ],
      "metadata": {
        "id": "aBIah-uiGUXZ"
      }
    },
    {
      "cell_type": "markdown",
      "source": [
        "$y = 10x+7$\n",
        "\n",
        "$y = -3x-12$\n",
        "\n",
        "$y=\\sin(x)$\n",
        "\n",
        "$y=e^x$\n",
        "\n",
        "$y=e^{-x^2}$"
      ],
      "metadata": {
        "id": "5HATIyQyGfEj"
      }
    },
    {
      "cell_type": "code",
      "source": [
        "# Excersise 1"
      ],
      "metadata": {
        "id": "S1KlIFKYMgpN"
      },
      "execution_count": null,
      "outputs": []
    },
    {
      "cell_type": "code",
      "source": [
        "import numpy as np\n",
        "import matplotlib.pyplot as plt"
      ],
      "metadata": {
        "id": "HjxyIkjwYsFO"
      },
      "execution_count": null,
      "outputs": []
    },
    {
      "cell_type": "code",
      "source": [
        "x = np.linspace(-10,10,)"
      ],
      "metadata": {
        "id": "MCImVEDRZ2UA"
      },
      "execution_count": null,
      "outputs": []
    },
    {
      "cell_type": "code",
      "source": [
        "x"
      ],
      "metadata": {
        "colab": {
          "base_uri": "https://localhost:8080/"
        },
        "id": "0DOF4iLxZ9yo",
        "outputId": "05407200-7f21-4674-d4be-ec8cb3740528"
      },
      "execution_count": null,
      "outputs": [
        {
          "output_type": "execute_result",
          "data": {
            "text/plain": [
              "array([-10.        ,  -9.59183673,  -9.18367347,  -8.7755102 ,\n",
              "        -8.36734694,  -7.95918367,  -7.55102041,  -7.14285714,\n",
              "        -6.73469388,  -6.32653061,  -5.91836735,  -5.51020408,\n",
              "        -5.10204082,  -4.69387755,  -4.28571429,  -3.87755102,\n",
              "        -3.46938776,  -3.06122449,  -2.65306122,  -2.24489796,\n",
              "        -1.83673469,  -1.42857143,  -1.02040816,  -0.6122449 ,\n",
              "        -0.20408163,   0.20408163,   0.6122449 ,   1.02040816,\n",
              "         1.42857143,   1.83673469,   2.24489796,   2.65306122,\n",
              "         3.06122449,   3.46938776,   3.87755102,   4.28571429,\n",
              "         4.69387755,   5.10204082,   5.51020408,   5.91836735,\n",
              "         6.32653061,   6.73469388,   7.14285714,   7.55102041,\n",
              "         7.95918367,   8.36734694,   8.7755102 ,   9.18367347,\n",
              "         9.59183673,  10.        ])"
            ]
          },
          "metadata": {},
          "execution_count": 19
        }
      ]
    },
    {
      "cell_type": "code",
      "source": [
        "y = 10*x+7"
      ],
      "metadata": {
        "id": "xbQwGXrXaAJ6"
      },
      "execution_count": null,
      "outputs": []
    },
    {
      "cell_type": "code",
      "source": [
        "y"
      ],
      "metadata": {
        "colab": {
          "base_uri": "https://localhost:8080/"
        },
        "id": "9G3FQ6URdGOq",
        "outputId": "67692144-a430-41c9-e77a-533a397cab6c"
      },
      "execution_count": null,
      "outputs": [
        {
          "output_type": "execute_result",
          "data": {
            "text/plain": [
              "array([-93.        , -88.91836735, -84.83673469, -80.75510204,\n",
              "       -76.67346939, -72.59183673, -68.51020408, -64.42857143,\n",
              "       -60.34693878, -56.26530612, -52.18367347, -48.10204082,\n",
              "       -44.02040816, -39.93877551, -35.85714286, -31.7755102 ,\n",
              "       -27.69387755, -23.6122449 , -19.53061224, -15.44897959,\n",
              "       -11.36734694,  -7.28571429,  -3.20408163,   0.87755102,\n",
              "         4.95918367,   9.04081633,  13.12244898,  17.20408163,\n",
              "        21.28571429,  25.36734694,  29.44897959,  33.53061224,\n",
              "        37.6122449 ,  41.69387755,  45.7755102 ,  49.85714286,\n",
              "        53.93877551,  58.02040816,  62.10204082,  66.18367347,\n",
              "        70.26530612,  74.34693878,  78.42857143,  82.51020408,\n",
              "        86.59183673,  90.67346939,  94.75510204,  98.83673469,\n",
              "       102.91836735, 107.        ])"
            ]
          },
          "metadata": {},
          "execution_count": 21
        }
      ]
    },
    {
      "cell_type": "code",
      "source": [
        "plt.plot(x,y)"
      ],
      "metadata": {
        "colab": {
          "base_uri": "https://localhost:8080/",
          "height": 282
        },
        "id": "EadwEIyGaIx5",
        "outputId": "b2dfc18b-cde4-40af-aacd-f169cf2efad8"
      },
      "execution_count": null,
      "outputs": [
        {
          "output_type": "execute_result",
          "data": {
            "text/plain": [
              "[<matplotlib.lines.Line2D at 0x7f68911834d0>]"
            ]
          },
          "metadata": {},
          "execution_count": 22
        },
        {
          "output_type": "display_data",
          "data": {
            "text/plain": [
              "<Figure size 432x288 with 1 Axes>"
            ],
            "image/png": "[encoded data removed]"
          },
          "metadata": {
            "needs_background": "light"
          }
        }
      ]
    },
    {
      "cell_type": "code",
      "source": [
        "# Exercise 2"
      ],
      "metadata": {
        "id": "K2opMi5advwl"
      },
      "execution_count": null,
      "outputs": []
    },
    {
      "cell_type": "code",
      "source": [
        "import numpy as np\n",
        "import matplotlib.pyplot as plt"
      ],
      "metadata": {
        "id": "DBhBALGENDQ_"
      },
      "execution_count": 1,
      "outputs": []
    },
    {
      "cell_type": "code",
      "source": [
        "x = np.linspace(-10,10,)"
      ],
      "metadata": {
        "id": "cvz4yQTWNFJy"
      },
      "execution_count": 2,
      "outputs": []
    },
    {
      "cell_type": "code",
      "source": [
        "x"
      ],
      "metadata": {
        "colab": {
          "base_uri": "https://localhost:8080/"
        },
        "id": "RXBFqiVsNOC2",
        "outputId": "785ac66f-b267-4259-a6d0-02b513109ecc"
      },
      "execution_count": 3,
      "outputs": [
        {
          "output_type": "execute_result",
          "data": {
            "text/plain": [
              "array([-10.        ,  -9.59183673,  -9.18367347,  -8.7755102 ,\n",
              "        -8.36734694,  -7.95918367,  -7.55102041,  -7.14285714,\n",
              "        -6.73469388,  -6.32653061,  -5.91836735,  -5.51020408,\n",
              "        -5.10204082,  -4.69387755,  -4.28571429,  -3.87755102,\n",
              "        -3.46938776,  -3.06122449,  -2.65306122,  -2.24489796,\n",
              "        -1.83673469,  -1.42857143,  -1.02040816,  -0.6122449 ,\n",
              "        -0.20408163,   0.20408163,   0.6122449 ,   1.02040816,\n",
              "         1.42857143,   1.83673469,   2.24489796,   2.65306122,\n",
              "         3.06122449,   3.46938776,   3.87755102,   4.28571429,\n",
              "         4.69387755,   5.10204082,   5.51020408,   5.91836735,\n",
              "         6.32653061,   6.73469388,   7.14285714,   7.55102041,\n",
              "         7.95918367,   8.36734694,   8.7755102 ,   9.18367347,\n",
              "         9.59183673,  10.        ])"
            ]
          },
          "metadata": {},
          "execution_count": 3
        }
      ]
    },
    {
      "cell_type": "code",
      "source": [
        "y2 = -3*x-12"
      ],
      "metadata": {
        "id": "TZpatjmiNSDG"
      },
      "execution_count": 4,
      "outputs": []
    },
    {
      "cell_type": "code",
      "source": [
        "y2"
      ],
      "metadata": {
        "colab": {
          "base_uri": "https://localhost:8080/"
        },
        "id": "nI0Izw6cNYfW",
        "outputId": "119e9895-82ed-434a-cc00-b6c5350dfa4a"
      },
      "execution_count": 5,
      "outputs": [
        {
          "output_type": "execute_result",
          "data": {
            "text/plain": [
              "array([ 18.        ,  16.7755102 ,  15.55102041,  14.32653061,\n",
              "        13.10204082,  11.87755102,  10.65306122,   9.42857143,\n",
              "         8.20408163,   6.97959184,   5.75510204,   4.53061224,\n",
              "         3.30612245,   2.08163265,   0.85714286,  -0.36734694,\n",
              "        -1.59183673,  -2.81632653,  -4.04081633,  -5.26530612,\n",
              "        -6.48979592,  -7.71428571,  -8.93877551, -10.16326531,\n",
              "       -11.3877551 , -12.6122449 , -13.83673469, -15.06122449,\n",
              "       -16.28571429, -17.51020408, -18.73469388, -19.95918367,\n",
              "       -21.18367347, -22.40816327, -23.63265306, -24.85714286,\n",
              "       -26.08163265, -27.30612245, -28.53061224, -29.75510204,\n",
              "       -30.97959184, -32.20408163, -33.42857143, -34.65306122,\n",
              "       -35.87755102, -37.10204082, -38.32653061, -39.55102041,\n",
              "       -40.7755102 , -42.        ])"
            ]
          },
          "metadata": {},
          "execution_count": 5
        }
      ]
    },
    {
      "cell_type": "code",
      "source": [
        "plt.plot(x,y2)"
      ],
      "metadata": {
        "colab": {
          "base_uri": "https://localhost:8080/",
          "height": 283
        },
        "id": "OlO0jfMzNgLy",
        "outputId": "e381ea06-02b6-4415-86f6-eef1071fbe24"
      },
      "execution_count": 6,
      "outputs": [
        {
          "output_type": "execute_result",
          "data": {
            "text/plain": [
              "[<matplotlib.lines.Line2D at 0x7f2f24530c10>]"
            ]
          },
          "metadata": {},
          "execution_count": 6
        },
        {
          "output_type": "display_data",
          "data": {
            "text/plain": [
              "<Figure size 432x288 with 1 Axes>"
            ],
            "image/png": "[encoded data removed]"
          },
          "metadata": {
            "needs_background": "light"
          }
        }
      ]
    },
    {
      "cell_type": "code",
      "source": [
        "# Class Plot Demo"
      ],
      "metadata": {
        "id": "3BWzR3IsaNQO"
      },
      "execution_count": null,
      "outputs": []
    },
    {
      "cell_type": "code",
      "source": [
        "# Exercise 3"
      ],
      "metadata": {
        "id": "I8TgKM_ONltb"
      },
      "execution_count": null,
      "outputs": []
    },
    {
      "cell_type": "code",
      "source": [
        "y8 = np.sin(x)"
      ],
      "metadata": {
        "id": "gvgnKaZLdOyT"
      },
      "execution_count": null,
      "outputs": []
    },
    {
      "cell_type": "code",
      "source": [
        "plt.plot(x,y8)"
      ],
      "metadata": {
        "colab": {
          "base_uri": "https://localhost:8080/",
          "height": 282
        },
        "id": "Ryuh4hrMdnlG",
        "outputId": "4bfca432-1322-490e-c0bd-148a1df9b23a"
      },
      "execution_count": null,
      "outputs": [
        {
          "output_type": "execute_result",
          "data": {
            "text/plain": [
              "[<matplotlib.lines.Line2D at 0x7f6890cdf810>]"
            ]
          },
          "metadata": {},
          "execution_count": 26
        },
        {
          "output_type": "display_data",
          "data": {
            "text/plain": [
              "<Figure size 432x288 with 1 Axes>"
            ],
            "image/png": "[encoded data removed]"
          },
          "metadata": {
            "needs_background": "light"
          }
        }
      ]
    },
    {
      "cell_type": "code",
      "source": [
        "def F(x):\n",
        "  y = x\n",
        "  return y"
      ],
      "metadata": {
        "id": "zIZkixfpdoJT"
      },
      "execution_count": null,
      "outputs": []
    },
    {
      "cell_type": "code",
      "source": [
        "F(0)"
      ],
      "metadata": {
        "colab": {
          "base_uri": "https://localhost:8080/"
        },
        "id": "L-TiWchieCqu",
        "outputId": "f627f171-8f78-4682-8c74-17efa7a2f379"
      },
      "execution_count": null,
      "outputs": [
        {
          "output_type": "execute_result",
          "data": {
            "text/plain": [
              "0"
            ]
          },
          "metadata": {},
          "execution_count": 28
        }
      ]
    },
    {
      "cell_type": "code",
      "source": [
        "F(100)"
      ],
      "metadata": {
        "colab": {
          "base_uri": "https://localhost:8080/"
        },
        "id": "z3pLA0IReFXr",
        "outputId": "97e66421-5f48-4354-f372-09fb2f24e221"
      },
      "execution_count": null,
      "outputs": [
        {
          "output_type": "execute_result",
          "data": {
            "text/plain": [
              "100"
            ]
          },
          "metadata": {},
          "execution_count": 29
        }
      ]
    },
    {
      "cell_type": "code",
      "source": [
        "def Q(x):\n",
        "  Q = 3*x+11\n",
        "  return Q"
      ],
      "metadata": {
        "id": "B4_7xYz3eMgu"
      },
      "execution_count": null,
      "outputs": []
    },
    {
      "cell_type": "code",
      "source": [
        "Q(0)"
      ],
      "metadata": {
        "colab": {
          "base_uri": "https://localhost:8080/"
        },
        "id": "Pvkwtk9AeSqf",
        "outputId": "51edf554-5728-4822-c9d3-b0e17d419cbb"
      },
      "execution_count": null,
      "outputs": [
        {
          "output_type": "execute_result",
          "data": {
            "text/plain": [
              "11"
            ]
          },
          "metadata": {},
          "execution_count": 31
        }
      ]
    },
    {
      "cell_type": "code",
      "source": [
        "Q(4)"
      ],
      "metadata": {
        "colab": {
          "base_uri": "https://localhost:8080/"
        },
        "id": "PeawSaM7eU4X",
        "outputId": "706484a0-0caf-4c54-dd4f-c459ceb44a23"
      },
      "execution_count": null,
      "outputs": [
        {
          "output_type": "execute_result",
          "data": {
            "text/plain": [
              "23"
            ]
          },
          "metadata": {},
          "execution_count": 32
        }
      ]
    },
    {
      "cell_type": "code",
      "source": [
        "# Exercise 4"
      ],
      "metadata": {
        "id": "3RKOWRbLNq5T"
      },
      "execution_count": null,
      "outputs": []
    },
    {
      "cell_type": "code",
      "source": [
        "e = 2.71828"
      ],
      "metadata": {
        "id": "VzIVZsa9fPkz"
      },
      "execution_count": null,
      "outputs": []
    },
    {
      "cell_type": "code",
      "source": [
        "np.e"
      ],
      "metadata": {
        "colab": {
          "base_uri": "https://localhost:8080/"
        },
        "id": "In1pyhjNfJW3",
        "outputId": "42fcfc3a-d168-427b-88b2-a2dc025f0fbc"
      },
      "execution_count": null,
      "outputs": [
        {
          "output_type": "execute_result",
          "data": {
            "text/plain": [
              "2.718281828459045"
            ]
          },
          "metadata": {},
          "execution_count": 41
        }
      ]
    },
    {
      "cell_type": "code",
      "source": [
        "y = e**x"
      ],
      "metadata": {
        "id": "2Kw0laftfLZj"
      },
      "execution_count": null,
      "outputs": []
    },
    {
      "cell_type": "code",
      "source": [
        "y"
      ],
      "metadata": {
        "colab": {
          "base_uri": "https://localhost:8080/"
        },
        "id": "tffbsz_NOr-v",
        "outputId": "3a7531da-1067-4e75-c861-339beacb432a"
      },
      "execution_count": 22,
      "outputs": [
        {
          "output_type": "execute_result",
          "data": {
            "text/plain": [
              "array([-1.99995460e+00, -1.99993172e+00, -1.99989730e+00, -1.99984553e+00,\n",
              "       -1.99976767e+00, -1.99965056e+00, -1.99947442e+00, -1.99920951e+00,\n",
              "       -1.99881106e+00, -1.99821177e+00, -1.99731040e+00, -1.99595470e+00,\n",
              "       -1.99391566e+00, -1.99084884e+00, -1.98623617e+00, -1.97929849e+00,\n",
              "       -1.96886384e+00, -1.95316959e+00, -1.92956461e+00, -1.89406149e+00,\n",
              "       -1.84066294e+00, -1.76034873e+00, -1.63955196e+00, -1.45786731e+00,\n",
              "       -1.18460408e+00, -7.73601905e-01, -1.55433139e-01,  7.74325007e-01,\n",
              "        2.17272987e+00,  4.27600391e+00,  7.43943804e+00,  1.21974084e+01,\n",
              "        1.93536446e+01,  3.01169980e+01,  4.63056443e+01,  7.06542148e+01,\n",
              "        1.07275738e+02,  1.62356424e+02,  2.45200655e+02,  3.69802711e+02,\n",
              "        5.57210718e+02,  8.39082159e+02,  1.26303155e+03,  1.90067359e+03,\n",
              "        2.85972057e+03,  4.30217737e+03,  6.47170781e+03,  9.73479505e+03,\n",
              "        1.46426489e+04,  2.20243176e+04])"
            ]
          },
          "metadata": {},
          "execution_count": 22
        }
      ]
    },
    {
      "cell_type": "code",
      "source": [
        "plt.plot(x,y)"
      ],
      "metadata": {
        "colab": {
          "base_uri": "https://localhost:8080/",
          "height": 282
        },
        "id": "qF98sZeHfUi_",
        "outputId": "7605bc69-f02f-4499-f101-91b529dc1113"
      },
      "execution_count": null,
      "outputs": [
        {
          "output_type": "execute_result",
          "data": {
            "text/plain": [
              "[<matplotlib.lines.Line2D at 0x7f6890bd9510>]"
            ]
          },
          "metadata": {},
          "execution_count": 44
        },
        {
          "output_type": "display_data",
          "data": {
            "text/plain": [
              "<Figure size 432x288 with 1 Axes>"
            ],
            "image/png": "[encoded data removed]"
          },
          "metadata": {
            "needs_background": "light"
          }
        }
      ]
    },
    {
      "cell_type": "code",
      "source": [
        "def W(x):\n",
        "  y9 = np.exp(x)\n",
        "  return y9"
      ],
      "metadata": {
        "id": "bsAAjmEHeo3u"
      },
      "execution_count": null,
      "outputs": []
    },
    {
      "cell_type": "code",
      "source": [
        "y9 = W(x)\n",
        "\n",
        "plt.plot(x,y9)"
      ],
      "metadata": {
        "colab": {
          "base_uri": "https://localhost:8080/",
          "height": 282
        },
        "id": "eL_ACv7ve6t2",
        "outputId": "bb6356cd-9aaa-4838-fc08-dba4ec3a50db"
      },
      "execution_count": null,
      "outputs": [
        {
          "output_type": "execute_result",
          "data": {
            "text/plain": [
              "[<matplotlib.lines.Line2D at 0x7f6890b25510>]"
            ]
          },
          "metadata": {},
          "execution_count": 47
        },
        {
          "output_type": "display_data",
          "data": {
            "text/plain": [
              "<Figure size 432x288 with 1 Axes>"
            ],
            "image/png": "[encoded data removed]"
          },
          "metadata": {
            "needs_background": "light"
          }
        }
      ]
    },
    {
      "cell_type": "code",
      "source": [
        "# Exercise 5"
      ],
      "metadata": {
        "id": "cHb6WJ9GfmAr"
      },
      "execution_count": null,
      "outputs": []
    },
    {
      "cell_type": "code",
      "source": [
        "e = 2.71828"
      ],
      "metadata": {
        "id": "EVqkTLkYN2IA"
      },
      "execution_count": 9,
      "outputs": []
    },
    {
      "cell_type": "code",
      "source": [
        "np.e"
      ],
      "metadata": {
        "colab": {
          "base_uri": "https://localhost:8080/"
        },
        "id": "aUr1YJ1fN2z9",
        "outputId": "75309a6a-88e8-43eb-e297-a087cce84733"
      },
      "execution_count": 10,
      "outputs": [
        {
          "output_type": "execute_result",
          "data": {
            "text/plain": [
              "2.718281828459045"
            ]
          },
          "metadata": {},
          "execution_count": 10
        }
      ]
    },
    {
      "cell_type": "code",
      "source": [
        "y9=e**x**-2"
      ],
      "metadata": {
        "id": "NRY901qYN-nK"
      },
      "execution_count": 23,
      "outputs": []
    },
    {
      "cell_type": "code",
      "source": [
        "y9"
      ],
      "metadata": {
        "colab": {
          "base_uri": "https://localhost:8080/"
        },
        "id": "4P02xX8hOd_s",
        "outputId": "bab03b8a-80c6-47d6-a3df-6273933e36e0"
      },
      "execution_count": 24,
      "outputs": [
        {
          "output_type": "execute_result",
          "data": {
            "text/plain": [
              "array([1.01005016e+00, 1.01092845e+00, 1.01192735e+00, 1.01307007e+00,\n",
              "       1.01438565e+00, 1.01591091e+00, 1.01769304e+00, 1.01979333e+00,\n",
              "       1.02229258e+00, 1.02529910e+00, 1.02896076e+00, 1.03348388e+00,\n",
              "       1.03916341e+00, 1.04643327e+00, 1.05595377e+00, 1.06877128e+00,\n",
              "       1.08662822e+00, 1.11261271e+00, 1.15265838e+00, 1.21948620e+00,\n",
              "       1.34503435e+00, 1.63231568e+00, 2.61273967e+00, 1.44078901e+01,\n",
              "       2.67549101e+10, 2.67549101e+10, 1.44078901e+01, 2.61273967e+00,\n",
              "       1.63231568e+00, 1.34503435e+00, 1.21948620e+00, 1.15265838e+00,\n",
              "       1.11261271e+00, 1.08662822e+00, 1.06877128e+00, 1.05595377e+00,\n",
              "       1.04643327e+00, 1.03916341e+00, 1.03348388e+00, 1.02896076e+00,\n",
              "       1.02529910e+00, 1.02229258e+00, 1.01979333e+00, 1.01769304e+00,\n",
              "       1.01591091e+00, 1.01438565e+00, 1.01307007e+00, 1.01192735e+00,\n",
              "       1.01092845e+00, 1.01005016e+00])"
            ]
          },
          "metadata": {},
          "execution_count": 24
        }
      ]
    },
    {
      "cell_type": "code",
      "source": [
        "plt.plot(x,y9)"
      ],
      "metadata": {
        "colab": {
          "base_uri": "https://localhost:8080/",
          "height": 293
        },
        "id": "cuUGtziEOeZJ",
        "outputId": "60a8e528-913d-4f06-8e0a-e4760782bfbb"
      },
      "execution_count": 25,
      "outputs": [
        {
          "output_type": "execute_result",
          "data": {
            "text/plain": [
              "[<matplotlib.lines.Line2D at 0x7f2f23adecd0>]"
            ]
          },
          "metadata": {},
          "execution_count": 25
        },
        {
          "output_type": "display_data",
          "data": {
            "text/plain": [
              "<Figure size 432x288 with 1 Axes>"
            ],
            "image/png": "[encoded data removed]"
          },
          "metadata": {
            "needs_background": "light"
          }
        }
      ]
    }
  ]
}